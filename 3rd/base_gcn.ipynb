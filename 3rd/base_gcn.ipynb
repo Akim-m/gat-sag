{
 "cells": [
  {
   "cell_type": "code",
   "execution_count": 44,
   "metadata": {},
   "outputs": [],
   "source": [
    "import torch\n",
    "import torch.nn as nn\n",
    "import torch.optim as optim\n",
    "import torch.nn.functional as F\n",
    "import pandas as pd\n",
    "import numpy as np\n",
    "import matplotlib.pyplot as plt\n",
    "import networkx as nx\n",
    "import time\n",
    "from tqdm import tqdm\n",
    "from torch_geometric.data import Data\n",
    "from torch_geometric.nn import GCNConv\n",
    "from sklearn.neighbors import kneighbors_graph"
   ]
  },
  {
   "cell_type": "code",
   "execution_count": 45,
   "metadata": {},
   "outputs": [],
   "source": [
    "def load_data(feature_file=\"features.csv\", device=\"cuda\"):\n",
    "    df = pd.read_csv(feature_file)\n",
    "    labels = torch.tensor(df[\"label\"].values, dtype=torch.long, device=device)\n",
    "    features = torch.tensor(df.drop(columns=[\"label\"]).values, dtype=torch.float, device=device)\n",
    "    return features, labels\n"
   ]
  },
  {
   "cell_type": "code",
   "execution_count": 46,
   "metadata": {},
   "outputs": [],
   "source": [
    "def build_graph(features, threshold=0.9, device=\"cuda\"):\n",
    "    G = nx.Graph()\n",
    "    num_nodes = features.shape[0]\n",
    "    G.add_nodes_from(range(num_nodes))\n",
    "    \n",
    "    for i in range(num_nodes):\n",
    "        for j in range(i + 1, num_nodes):\n",
    "            similarity = torch.dot(features[i], features[j]) / (torch.norm(features[i]) * torch.norm(features[j]))\n",
    "            if similarity > threshold:\n",
    "                G.add_edge(i, j)\n",
    "    \n",
    "    edge_index = torch.tensor(list(G.edges), dtype=torch.long, device=device).t().contiguous()\n",
    "    return G, edge_index"
   ]
  },
  {
   "cell_type": "code",
   "execution_count": 47,
   "metadata": {},
   "outputs": [],
   "source": [
    "def build_graph(features, k=5, device=\"cuda\"):\n",
    "    adj_matrix = kneighbors_graph(features.cpu().numpy(), k, mode='connectivity', include_self=True)\n",
    "    edge_index = np.array(adj_matrix.nonzero())\n",
    "    edge_index = edge_index[:, edge_index[0] != edge_index[1]]  # Remove self-loops\n",
    "    edge_index = torch.tensor(edge_index, dtype=torch.long, device=device)\n",
    "    return edge_index.to(device).cpu().numpy().T  # Convert to list format for NetworkX"
   ]
  },
  {
   "cell_type": "code",
   "execution_count": 48,
   "metadata": {},
   "outputs": [],
   "source": [
    "def visualize_graph(edge_index, num_nodes, device=\"cuda\"):\n",
    "    plt.figure(figsize=(8, 6))\n",
    "    G = nx.Graph()\n",
    "    edges = edge_index.tolist()\n",
    "    G.add_edges_from(edges)\n",
    "    G.add_nodes_from(range(num_nodes))\n",
    "    pos = nx.spring_layout(G, seed=42)\n",
    "    \n",
    "    print(\"Rendering graph...\")\n",
    "    for i in tqdm(range(len(edges)), desc=\"Adding edges\"):\n",
    "        time.sleep(0.0001)  # Simulating real-time visualization update\n",
    "        G.add_edge(*edges[i])\n",
    "    \n",
    "    nx.draw(G, pos, with_labels=True, node_color='lightblue', edge_color='gray')\n",
    "    plt.title(\"Graph Visualization\")\n",
    "    plt.show()"
   ]
  },
  {
   "cell_type": "code",
   "execution_count": 49,
   "metadata": {},
   "outputs": [],
   "source": [
    "class GCN(nn.Module):\n",
    "    def __init__(self, in_dim, hidden_dim, out_dim):\n",
    "        super(GCN, self).__init__()\n",
    "        self.conv1 = GCNConv(in_dim, hidden_dim)\n",
    "        self.conv2 = GCNConv(hidden_dim, out_dim)\n",
    "    \n",
    "    def forward(self, x, edge_index):\n",
    "        x = self.conv1(x, edge_index)\n",
    "        x = F.relu(x)\n",
    "        x = self.conv2(x, edge_index)\n",
    "        return F.log_softmax(x, dim=1)\n",
    "\n",
    "# Set device\n",
    "device = torch.device(\"cuda\" if torch.cuda.is_available() else \"cpu\")\n",
    "\n",
    "# Load data\n",
    "features, labels = load_data(device=device)"
   ]
  },
  {
   "cell_type": "code",
   "execution_count": 50,
   "metadata": {},
   "outputs": [],
   "source": [
    "edge_index = build_graph(features, device=device)"
   ]
  },
  {
   "cell_type": "code",
   "execution_count": 51,
   "metadata": {},
   "outputs": [],
   "source": [
    "num_classes = len(torch.unique(labels))"
   ]
  },
  {
   "cell_type": "code",
   "execution_count": null,
   "metadata": {},
   "outputs": [],
   "source": [
    "visualize_graph(edge_index, features.shape[0], device=device)"
   ]
  },
  {
   "cell_type": "code",
   "execution_count": null,
   "metadata": {},
   "outputs": [],
   "source": [
    "tensor_edge_index = torch.tensor(edge_index.T, dtype=torch.long, device=device)"
   ]
  },
  {
   "cell_type": "code",
   "execution_count": null,
   "metadata": {},
   "outputs": [],
   "source": [
    "data = Data(x=features, edge_index=tensor_edge_index, y=labels).to(device)\n",
    "\n",
    "model = GCN(features.shape[1], 16, num_classes).to(device)\n",
    "optimizer = optim.Adam(model.parameters(), lr=0.01, weight_decay=5e-4)\n",
    "criterion = nn.NLLLoss()\n",
    "\n",
    "# Training loop\n",
    "model.train()\n",
    "for epoch in range(200):\n",
    "    optimizer.zero_grad()\n",
    "    out = model(data.x, data.edge_index)\n",
    "    loss = criterion(out, data.y)\n",
    "    loss.backward()\n",
    "    optimizer.step()\n",
    "    if epoch % 20 == 0:\n",
    "        print(f\"Epoch {epoch}, Loss: {loss.item():.4f}\")\n",
    "\n",
    "print(\"Training complete.\")\n"
   ]
  }
 ],
 "metadata": {
  "kernelspec": {
   "display_name": ".venv",
   "language": "python",
   "name": "python3"
  },
  "language_info": {
   "codemirror_mode": {
    "name": "ipython",
    "version": 3
   },
   "file_extension": ".py",
   "mimetype": "text/x-python",
   "name": "python",
   "nbconvert_exporter": "python",
   "pygments_lexer": "ipython3",
   "version": "3.12.6"
  }
 },
 "nbformat": 4,
 "nbformat_minor": 2
}
